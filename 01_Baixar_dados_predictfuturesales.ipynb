{
 "cells": [
  {
   "cell_type": "code",
   "execution_count": 1,
   "metadata": {},
   "outputs": [
    {
     "name": "stdout",
     "output_type": "stream",
     "text": [
      "Requirement already satisfied: kaggle in c:\\users\\luno fercrantz\\appdata\\local\\programs\\python\\python37\\lib\\site-packages (1.6.17)\n",
      "Requirement already satisfied: six>=1.10 in c:\\users\\luno fercrantz\\appdata\\local\\programs\\python\\python37\\lib\\site-packages (from kaggle) (1.16.0)\n",
      "Requirement already satisfied: certifi>=2023.7.22 in c:\\users\\luno fercrantz\\appdata\\local\\programs\\python\\python37\\lib\\site-packages (from kaggle) (2024.8.30)\n",
      "Requirement already satisfied: python-dateutil in c:\\users\\luno fercrantz\\appdata\\local\\programs\\python\\python37\\lib\\site-packages (from kaggle) (2.8.2)\n",
      "Requirement already satisfied: requests in c:\\users\\luno fercrantz\\appdata\\local\\programs\\python\\python37\\lib\\site-packages (from kaggle) (2.31.0)\n",
      "Requirement already satisfied: tqdm in c:\\users\\luno fercrantz\\appdata\\local\\programs\\python\\python37\\lib\\site-packages (from kaggle) (4.67.1)\n",
      "Requirement already satisfied: python-slugify in c:\\users\\luno fercrantz\\appdata\\local\\programs\\python\\python37\\lib\\site-packages (from kaggle) (8.0.4)\n",
      "Requirement already satisfied: urllib3 in c:\\users\\luno fercrantz\\appdata\\local\\programs\\python\\python37\\lib\\site-packages (from kaggle) (2.0.7)\n",
      "Requirement already satisfied: bleach in c:\\users\\luno fercrantz\\appdata\\local\\programs\\python\\python37\\lib\\site-packages (from kaggle) (6.0.0)\n",
      "Requirement already satisfied: idna<4,>=2.5 in c:\\users\\luno fercrantz\\appdata\\local\\programs\\python\\python37\\lib\\site-packages (from requests->kaggle) (3.10)\n",
      "Requirement already satisfied: charset-normalizer<4,>=2 in c:\\users\\luno fercrantz\\appdata\\local\\programs\\python\\python37\\lib\\site-packages (from requests->kaggle) (3.4.0)\n",
      "Requirement already satisfied: colorama; platform_system == \"Windows\" in c:\\users\\luno fercrantz\\appdata\\local\\programs\\python\\python37\\lib\\site-packages (from tqdm->kaggle) (0.4.5)\n",
      "Requirement already satisfied: text-unidecode>=1.3 in c:\\users\\luno fercrantz\\appdata\\local\\programs\\python\\python37\\lib\\site-packages (from python-slugify->kaggle) (1.3)\n",
      "Requirement already satisfied: webencodings in c:\\users\\luno fercrantz\\appdata\\local\\programs\\python\\python37\\lib\\site-packages (from bleach->kaggle) (0.5.1)\n"
     ]
    },
    {
     "name": "stderr",
     "output_type": "stream",
     "text": [
      "WARNING: You are using pip version 19.2.3, however version 24.0 is available.\n",
      "You should consider upgrading via the 'python -m pip install --upgrade pip' command.\n"
     ]
    }
   ],
   "source": [
    "!pip install kaggle"
   ]
  },
  {
   "cell_type": "code",
   "execution_count": 4,
   "metadata": {},
   "outputs": [],
   "source": [
    "import os\n",
    "import zipfile\n",
    "from kaggle.api.kaggle_api_extended import KaggleApi"
   ]
  },
  {
   "cell_type": "markdown",
   "metadata": {},
   "source": [
    "### 01.Baixando dados para consumo via API"
   ]
  },
  {
   "cell_type": "code",
   "execution_count": 5,
   "metadata": {},
   "outputs": [
    {
     "name": "stdout",
     "output_type": "stream",
     "text": [
      "Autenticação bem-sucedida!\n"
     ]
    }
   ],
   "source": [
    "# Definir a variável de ambiente (se necessário)\n",
    "os.environ['KAGGLE_CONFIG_DIR'] =r'kaggle.json'\n",
    "\n",
    "# Testar a autenticação\n",
    "api = KaggleApi()\n",
    "\n",
    "try:\n",
    "    # Autenticar na API do Kaggle\n",
    "    api.authenticate()\n",
    "\n",
    "    # Se a autenticação for bem-sucedida, imprima uma mensagem de sucesso\n",
    "    print(\"Autenticação bem-sucedida!\")\n",
    "except Exception as e:\n",
    "    # Se ocorrer algum erro durante a autenticação, exiba o erro\n",
    "    print(f\"Erro na autenticação: {e}\")\n",
    "\n",
    "# Agora, tente baixar os dadoss\n",
    "api.competition_download_files('competitive-data-science-predict-future-sales')\n"
   ]
  },
  {
   "cell_type": "markdown",
   "metadata": {},
   "source": [
    "### 02.Desconpactando Dados e salvando"
   ]
  },
  {
   "cell_type": "code",
   "execution_count": 6,
   "metadata": {},
   "outputs": [],
   "source": [
    "# Caminho para o arquivo zip\n",
    "zip_path = 'competitive-data-science-predict-future-sales.zip'\n",
    "\n",
    "# Caminho para onde descompactar\n",
    "extract_path = ''\n",
    "\n",
    "# Descompactando o arquivo\n",
    "with zipfile.ZipFile(zip_path, 'r') as zip_ref:\n",
    "    zip_ref.extractall(extract_path)"
   ]
  }
 ],
 "metadata": {
  "kernelspec": {
   "display_name": "Python 3",
   "language": "python",
   "name": "python3"
  },
  "language_info": {
   "codemirror_mode": {
    "name": "ipython",
    "version": 3
   },
   "file_extension": ".py",
   "mimetype": "text/x-python",
   "name": "python",
   "nbconvert_exporter": "python",
   "pygments_lexer": "ipython3",
   "version": "3.7.7"
  }
 },
 "nbformat": 4,
 "nbformat_minor": 2
}
